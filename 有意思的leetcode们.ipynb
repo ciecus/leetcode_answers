{
 "cells": [
  {
   "cell_type": "code",
   "execution_count": null,
   "metadata": {
    "collapsed": true
   },
   "outputs": [],
   "source": []
  },
  {
   "cell_type": "markdown",
   "source": [
    "# 179 最大数\n",
    "https://leetcode-cn.com/problems/largest-number/\n",
    "## 题目描述：\n",
    "给定一组非负整数 nums，重新排列每个数的顺序（每个数不可拆分）使之组成一个最大的整数。\n",
    "\n",
    "注意：输出结果可能非常大，所以你需要返回一个字符串而不是整数。\n",
    "```\n",
    "输入：nums = [10,2]\n",
    "输出：\"210\"\n",
    "```\n",
    "## 题目特色：\n",
    "排序的技巧，用 a+b 和 b+a 之后的结果比较 a和b谁排在前面"
   ],
   "metadata": {
    "collapsed": false
   }
  },
  {
   "cell_type": "code",
   "execution_count": null,
   "outputs": [],
   "source": [
    "from functools import cmp_to_key\n",
    "from typing import List\n",
    "class Solution:\n",
    "    def largestNumber(self, nums: List[int]) -> str:\n",
    "        # 定义比较函数，把最大的放在最左边\n",
    "        def compare(a,b):\n",
    "            return int(b+a)- int(a+b)\n",
    "        # 排序\n",
    "        nums = sorted(map(str,nums),key=cmp_to_key(compare))\n",
    "        # 返回结果\n",
    "        return \"0\" if nums[0]==\"0\" else \"\".join(map(str,nums))\n"
   ],
   "metadata": {
    "collapsed": false,
    "pycharm": {
     "name": "#%%\n"
    }
   }
  },
  {
   "cell_type": "markdown",
   "source": [
    "## 代码解析：\n",
    "里面有很经典的写法：\n",
    "sorted(map(str,nums),key=cmp_to_key(compare))\n",
    "\n",
    "# 229 求众数\n",
    "https://leetcode-cn.com/problems/majority-element-ii/\n",
    "给定一个大小为 n 的整数数组，找出其中所有出现超过 ⌊ n/3 ⌋ 次的元素。\n",
    "\n",
    "示例 1：\n",
    "```\n",
    "输入：[3,2,3]\n",
    "输出：[3]\n",
    "```\n",
    "示例 2：\n",
    "```\n",
    "输入：nums = [1]\n",
    "输出：[1]\n",
    "```\n",
    "示例 3：\n",
    "```\n",
    "输入：[1,1,1,3,3,2,2,2]\n",
    "输出：[1,2]\n",
    "```\n",
    "## 题目的有意思之处\n",
    "使用摩尔投票法\n",
    "超过n/3的数字最多只有2个，而且当3个数字都不想等的时候可以互相抵消，剩下来的两个数字就是出现次数最多的，然后统计这些的出现次数，如果超过n/3，输出。"
   ],
   "metadata": {
    "collapsed": false
   }
  },
  {
   "cell_type": "code",
   "execution_count": null,
   "outputs": [],
   "source": [
    "class Solution:\n",
    "    def majorityElement(self, nums: List[int]) -> List[int]:\n",
    "        ans = []\n",
    "        ele1 = 0\n",
    "        ele2 = 0 \n",
    "        cnt1 = 0\n",
    "        cnt2 = 0\n",
    "        for num in nums:\n",
    "            if cnt1 >0 and num == ele1:\n",
    "                cnt1 += 1\n",
    "            elif cnt2 >0 and num == ele2:\n",
    "                cnt2 += 1\n",
    "            elif cnt1 == 0:\n",
    "                ele1 = num \n",
    "                cnt1 = 1\n",
    "            elif cnt2 == 0:\n",
    "                ele2 = num \n",
    "                cnt2 = 1\n",
    "            else:\n",
    "                cnt1 -= 1\n",
    "                cnt2 -= 1\n",
    "        cnt1 = 0\n",
    "        cnt2 = 0 \n",
    "        for num in nums:\n",
    "            if num == ele1:\n",
    "                cnt1 += 1\n",
    "            elif num == ele2:\n",
    "                cnt2 += 1\n",
    "        if cnt1 > len(nums)/3:\n",
    "            ans.append(ele1)\n",
    "        if cnt2 > len(nums)/3:\n",
    "            ans.append(ele2)\n",
    "        return ans\n"
   ],
   "metadata": {
    "collapsed": false,
    "pycharm": {
     "name": "#%%\n"
    }
   }
  }
 ],
 "metadata": {
  "kernelspec": {
   "display_name": "Python 3",
   "language": "python",
   "name": "python3"
  },
  "language_info": {
   "codemirror_mode": {
    "name": "ipython",
    "version": 2
   },
   "file_extension": ".py",
   "mimetype": "text/x-python",
   "name": "python",
   "nbconvert_exporter": "python",
   "pygments_lexer": "ipython2",
   "version": "2.7.6"
  },
  "pycharm": {
   "stem_cell": {
    "cell_type": "raw",
    "source": [],
    "metadata": {
     "collapsed": false
    }
   }
  }
 },
 "nbformat": 4,
 "nbformat_minor": 0
}